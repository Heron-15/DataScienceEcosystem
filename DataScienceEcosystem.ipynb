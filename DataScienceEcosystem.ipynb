{
 "cells": [
  {
   "cell_type": "markdown",
   "id": "d00cece4",
   "metadata": {},
   "source": [
    "# Data Science Tools and Ecosystem "
   ]
  },
  {
   "cell_type": "markdown",
   "id": "083dbd49",
   "metadata": {},
   "source": [
    "In this notebook, Data Science Tools and Ecosystem are summarized."
   ]
  },
  {
   "cell_type": "markdown",
   "id": "b1aa0d4a",
   "metadata": {},
   "source": [
    "Some of the popular languages that Data Scientists use are:\n",
    "1. R language\n",
    "2. SQL\n",
    "3. MATLAB"
   ]
  },
  {
   "cell_type": "markdown",
   "id": "15d11fd6",
   "metadata": {},
   "source": [
    "Some of the commonly used libraries used by Data Scientists include:\n",
    "1. Scikit-learn\n",
    "2. Numpy\n",
    "3. Matplotlib\n",
    "4. Pandas"
   ]
  },
  {
   "cell_type": "code",
   "execution_count": null,
   "id": "883ee931",
   "metadata": {},
   "outputs": [],
   "source": [
    "| Data Science Tools |\n",
    "| -------------|\n",
    "| R Studio |\n",
    "| TensorFlow|\n",
    "| Apache Spark |"
   ]
  },
  {
   "cell_type": "markdown",
   "id": "b93f712a",
   "metadata": {},
   "source": [
    "### Below are a few examples of evaluating arithmetic expressions in Python"
   ]
  },
  {
   "cell_type": "code",
   "execution_count": 11,
   "id": "bde2e04a",
   "metadata": {},
   "outputs": [
    {
     "name": "stdout",
     "output_type": "stream",
     "text": [
      "-2\n",
      "Val is a negative integer\n"
     ]
    }
   ],
   "source": [
    "val = (1-4)^3\n",
    "print(val)\n",
    "if(val <0):\n",
    "    print(\"Val is a negative integer\")\n",
    "else:\n",
    "    print(\"Val is a positive integer\")"
   ]
  },
  {
   "cell_type": "code",
   "execution_count": 12,
   "id": "44d2c7d3",
   "metadata": {},
   "outputs": [
    {
     "name": "stdout",
     "output_type": "stream",
     "text": [
      "True\n"
     ]
    }
   ],
   "source": [
    "# This a simple arithmetic expression to mutiply then add integers\n",
    "(3*4)+5\n",
    "print(((3*4)+5)==17)"
   ]
  },
  {
   "cell_type": "code",
   "execution_count": 15,
   "id": "b7876c36",
   "metadata": {},
   "outputs": [
    {
     "name": "stdout",
     "output_type": "stream",
     "text": [
      "33.333333333333336\n"
     ]
    }
   ],
   "source": [
    "# This will convert 200 minutes to hours by diving by 60\n",
    "print(200/6)"
   ]
  },
  {
   "cell_type": "code",
   "execution_count": null,
   "id": "c9d80c69",
   "metadata": {},
   "outputs": [],
   "source": [
    "**Objectives:**\n",
    "- Python\n",
    "- R \n",
    "- SQL"
   ]
  },
  {
   "cell_type": "code",
   "execution_count": null,
   "id": "57ad6ae2",
   "metadata": {},
   "outputs": [],
   "source": [
    "## Author\n",
    "Name: Hamit Özbek"
   ]
  }
 ],
 "metadata": {
  "kernelspec": {
   "display_name": "Python 3 (ipykernel)",
   "language": "python",
   "name": "python3"
  },
  "language_info": {
   "codemirror_mode": {
    "name": "ipython",
    "version": 3
   },
   "file_extension": ".py",
   "mimetype": "text/x-python",
   "name": "python",
   "nbconvert_exporter": "python",
   "pygments_lexer": "ipython3",
   "version": "3.10.9"
  }
 },
 "nbformat": 4,
 "nbformat_minor": 5
}
